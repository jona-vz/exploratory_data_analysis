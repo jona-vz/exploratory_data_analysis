{
 "cells": [
  {
   "cell_type": "code",
   "execution_count": 1,
   "metadata": {},
   "outputs": [],
   "source": [
    "#importing required packages\n",
    "import pandas as pd\n",
    "import seaborn as sns\n",
    "import matplotlib.pyplot as plt\n",
    "from sklearn.ensemble import RandomForestClassifier\n",
    "from sklearn.svm import SVC\n",
    "from sklearn import svm\n",
    "from sklearn.neural_network import MLPClassifier\n",
    "#from sklearn.linear_model import SGDClassifier\n",
    "from sklearn.metrics import confusion_matrix, classification_report\n",
    "from sklearn.preprocessing import StandardScaler, LabelEncoder\n",
    "from sklearn.model_selection import train_test_split\n",
    "%matplotlib inline"
   ]
  },
  {
   "cell_type": "code",
   "execution_count": 2,
   "metadata": {},
   "outputs": [],
   "source": [
    "#loading dataset\n",
    "wine = pd.read_csv('sk_dat.csv')"
   ]
  },
  {
   "cell_type": "code",
   "execution_count": 3,
   "metadata": {},
   "outputs": [
    {
     "data": {
      "text/html": [
       "<div>\n",
       "<style scoped>\n",
       "    .dataframe tbody tr th:only-of-type {\n",
       "        vertical-align: middle;\n",
       "    }\n",
       "\n",
       "    .dataframe tbody tr th {\n",
       "        vertical-align: top;\n",
       "    }\n",
       "\n",
       "    .dataframe thead th {\n",
       "        text-align: right;\n",
       "    }\n",
       "</style>\n",
       "<table border=\"1\" class=\"dataframe\">\n",
       "  <thead>\n",
       "    <tr style=\"text-align: right;\">\n",
       "      <th></th>\n",
       "      <th>&amp;Reac_Pressure</th>\n",
       "      <th>Coolant_OutletTemp</th>\n",
       "      <th>T10</th>\n",
       "      <th>ColumnPC_OP</th>\n",
       "      <th>CondDuty_OutletTemp</th>\n",
       "    </tr>\n",
       "  </thead>\n",
       "  <tbody>\n",
       "    <tr>\n",
       "      <th>0</th>\n",
       "      <td>29.9396</td>\n",
       "      <td>47.1669</td>\n",
       "      <td>182.235</td>\n",
       "      <td>47.6326</td>\n",
       "      <td>61.1599</td>\n",
       "    </tr>\n",
       "    <tr>\n",
       "      <th>1</th>\n",
       "      <td>29.4974</td>\n",
       "      <td>45.7063</td>\n",
       "      <td>182.218</td>\n",
       "      <td>47.2119</td>\n",
       "      <td>61.6422</td>\n",
       "    </tr>\n",
       "    <tr>\n",
       "      <th>2</th>\n",
       "      <td>29.1028</td>\n",
       "      <td>45.4970</td>\n",
       "      <td>182.275</td>\n",
       "      <td>48.3266</td>\n",
       "      <td>61.7470</td>\n",
       "    </tr>\n",
       "    <tr>\n",
       "      <th>3</th>\n",
       "      <td>28.8263</td>\n",
       "      <td>46.0931</td>\n",
       "      <td>182.318</td>\n",
       "      <td>49.5561</td>\n",
       "      <td>61.3308</td>\n",
       "    </tr>\n",
       "    <tr>\n",
       "      <th>4</th>\n",
       "      <td>28.6948</td>\n",
       "      <td>47.1695</td>\n",
       "      <td>182.296</td>\n",
       "      <td>49.5242</td>\n",
       "      <td>60.8892</td>\n",
       "    </tr>\n",
       "  </tbody>\n",
       "</table>\n",
       "</div>"
      ],
      "text/plain": [
       "   &Reac_Pressure  Coolant_OutletTemp      T10  ColumnPC_OP  \\\n",
       "0         29.9396             47.1669  182.235      47.6326   \n",
       "1         29.4974             45.7063  182.218      47.2119   \n",
       "2         29.1028             45.4970  182.275      48.3266   \n",
       "3         28.8263             46.0931  182.318      49.5561   \n",
       "4         28.6948             47.1695  182.296      49.5242   \n",
       "\n",
       "   CondDuty_OutletTemp  \n",
       "0              61.1599  \n",
       "1              61.6422  \n",
       "2              61.7470  \n",
       "3              61.3308  \n",
       "4              60.8892  "
      ]
     },
     "execution_count": 3,
     "metadata": {},
     "output_type": "execute_result"
    }
   ],
   "source": [
    "wine.head()"
   ]
  },
  {
   "cell_type": "code",
   "execution_count": 4,
   "metadata": {},
   "outputs": [
    {
     "name": "stdout",
     "output_type": "stream",
     "text": [
      "<class 'pandas.core.frame.DataFrame'>\n",
      "RangeIndex: 1484 entries, 0 to 1483\n",
      "Data columns (total 5 columns):\n",
      "&Reac_Pressure         1484 non-null float64\n",
      "Coolant_OutletTemp     1484 non-null float64\n",
      "T10                    1484 non-null float64\n",
      "ColumnPC_OP            1484 non-null float64\n",
      "CondDuty_OutletTemp    1484 non-null float64\n",
      "dtypes: float64(5)\n",
      "memory usage: 58.0 KB\n"
     ]
    }
   ],
   "source": [
    "wine.info()"
   ]
  },
  {
   "cell_type": "code",
   "execution_count": 5,
   "metadata": {},
   "outputs": [
    {
     "data": {
      "text/plain": [
       "&Reac_Pressure         0\n",
       "Coolant_OutletTemp     0\n",
       "T10                    0\n",
       "ColumnPC_OP            0\n",
       "CondDuty_OutletTemp    0\n",
       "dtype: int64"
      ]
     },
     "execution_count": 5,
     "metadata": {},
     "output_type": "execute_result"
    }
   ],
   "source": [
    "wine.isnull().sum()"
   ]
  },
  {
   "cell_type": "code",
   "execution_count": 6,
   "metadata": {},
   "outputs": [
    {
     "data": {
      "text/plain": [
       "[good, bad]\n",
       "Categories (2, object): [bad < good]"
      ]
     },
     "execution_count": 6,
     "metadata": {},
     "output_type": "execute_result"
    }
   ],
   "source": [
    "#preprocessing data\n",
    "bins = (2, 59.9999, 62.2000)\n",
    "group_names = ['bad', 'good']\n",
    "wine['CondDuty_OutletTemp']=pd.cut(wine['CondDuty_OutletTemp'], bins=bins, labels=group_names)\n",
    "wine['CondDuty_OutletTemp'].unique()"
   ]
  },
  {
   "cell_type": "code",
   "execution_count": 7,
   "metadata": {},
   "outputs": [
    {
     "data": {
      "text/html": [
       "<div>\n",
       "<style scoped>\n",
       "    .dataframe tbody tr th:only-of-type {\n",
       "        vertical-align: middle;\n",
       "    }\n",
       "\n",
       "    .dataframe tbody tr th {\n",
       "        vertical-align: top;\n",
       "    }\n",
       "\n",
       "    .dataframe thead th {\n",
       "        text-align: right;\n",
       "    }\n",
       "</style>\n",
       "<table border=\"1\" class=\"dataframe\">\n",
       "  <thead>\n",
       "    <tr style=\"text-align: right;\">\n",
       "      <th></th>\n",
       "      <th>&amp;Reac_Pressure</th>\n",
       "      <th>Coolant_OutletTemp</th>\n",
       "      <th>T10</th>\n",
       "      <th>ColumnPC_OP</th>\n",
       "      <th>CondDuty_OutletTemp</th>\n",
       "    </tr>\n",
       "  </thead>\n",
       "  <tbody>\n",
       "    <tr>\n",
       "      <th>1140</th>\n",
       "      <td>29.1234</td>\n",
       "      <td>51.3815</td>\n",
       "      <td>182.062</td>\n",
       "      <td>46.4159</td>\n",
       "      <td>bad</td>\n",
       "    </tr>\n",
       "    <tr>\n",
       "      <th>1141</th>\n",
       "      <td>29.1314</td>\n",
       "      <td>51.4170</td>\n",
       "      <td>182.067</td>\n",
       "      <td>46.4014</td>\n",
       "      <td>bad</td>\n",
       "    </tr>\n",
       "    <tr>\n",
       "      <th>1142</th>\n",
       "      <td>29.1396</td>\n",
       "      <td>51.4453</td>\n",
       "      <td>182.077</td>\n",
       "      <td>46.5491</td>\n",
       "      <td>bad</td>\n",
       "    </tr>\n",
       "    <tr>\n",
       "      <th>1143</th>\n",
       "      <td>29.1473</td>\n",
       "      <td>51.4662</td>\n",
       "      <td>182.083</td>\n",
       "      <td>46.6414</td>\n",
       "      <td>bad</td>\n",
       "    </tr>\n",
       "    <tr>\n",
       "      <th>1144</th>\n",
       "      <td>29.1539</td>\n",
       "      <td>51.4804</td>\n",
       "      <td>182.081</td>\n",
       "      <td>46.5553</td>\n",
       "      <td>bad</td>\n",
       "    </tr>\n",
       "    <tr>\n",
       "      <th>1145</th>\n",
       "      <td>29.1592</td>\n",
       "      <td>51.4903</td>\n",
       "      <td>182.079</td>\n",
       "      <td>46.4289</td>\n",
       "      <td>bad</td>\n",
       "    </tr>\n",
       "    <tr>\n",
       "      <th>1146</th>\n",
       "      <td>29.1634</td>\n",
       "      <td>51.4982</td>\n",
       "      <td>182.085</td>\n",
       "      <td>46.4438</td>\n",
       "      <td>bad</td>\n",
       "    </tr>\n",
       "    <tr>\n",
       "      <th>1147</th>\n",
       "      <td>29.1664</td>\n",
       "      <td>51.5059</td>\n",
       "      <td>182.092</td>\n",
       "      <td>46.5814</td>\n",
       "      <td>bad</td>\n",
       "    </tr>\n",
       "    <tr>\n",
       "      <th>1148</th>\n",
       "      <td>29.1688</td>\n",
       "      <td>51.5152</td>\n",
       "      <td>182.098</td>\n",
       "      <td>46.6505</td>\n",
       "      <td>bad</td>\n",
       "    </tr>\n",
       "    <tr>\n",
       "      <th>1149</th>\n",
       "      <td>29.1709</td>\n",
       "      <td>51.5269</td>\n",
       "      <td>182.096</td>\n",
       "      <td>46.5738</td>\n",
       "      <td>good</td>\n",
       "    </tr>\n",
       "    <tr>\n",
       "      <th>1150</th>\n",
       "      <td>29.1730</td>\n",
       "      <td>51.5410</td>\n",
       "      <td>182.095</td>\n",
       "      <td>46.4836</td>\n",
       "      <td>good</td>\n",
       "    </tr>\n",
       "    <tr>\n",
       "      <th>1151</th>\n",
       "      <td>29.1753</td>\n",
       "      <td>51.5570</td>\n",
       "      <td>182.100</td>\n",
       "      <td>46.5242</td>\n",
       "      <td>good</td>\n",
       "    </tr>\n",
       "    <tr>\n",
       "      <th>1152</th>\n",
       "      <td>29.1781</td>\n",
       "      <td>51.5738</td>\n",
       "      <td>182.108</td>\n",
       "      <td>46.6486</td>\n",
       "      <td>good</td>\n",
       "    </tr>\n",
       "    <tr>\n",
       "      <th>1153</th>\n",
       "      <td>29.1812</td>\n",
       "      <td>51.5910</td>\n",
       "      <td>182.111</td>\n",
       "      <td>46.6993</td>\n",
       "      <td>good</td>\n",
       "    </tr>\n",
       "    <tr>\n",
       "      <th>1154</th>\n",
       "      <td>29.1846</td>\n",
       "      <td>51.6076</td>\n",
       "      <td>182.109</td>\n",
       "      <td>46.6323</td>\n",
       "      <td>good</td>\n",
       "    </tr>\n",
       "    <tr>\n",
       "      <th>1155</th>\n",
       "      <td>29.1883</td>\n",
       "      <td>51.6234</td>\n",
       "      <td>182.110</td>\n",
       "      <td>46.5730</td>\n",
       "      <td>good</td>\n",
       "    </tr>\n",
       "  </tbody>\n",
       "</table>\n",
       "</div>"
      ],
      "text/plain": [
       "      &Reac_Pressure  Coolant_OutletTemp      T10  ColumnPC_OP  \\\n",
       "1140         29.1234             51.3815  182.062      46.4159   \n",
       "1141         29.1314             51.4170  182.067      46.4014   \n",
       "1142         29.1396             51.4453  182.077      46.5491   \n",
       "1143         29.1473             51.4662  182.083      46.6414   \n",
       "1144         29.1539             51.4804  182.081      46.5553   \n",
       "1145         29.1592             51.4903  182.079      46.4289   \n",
       "1146         29.1634             51.4982  182.085      46.4438   \n",
       "1147         29.1664             51.5059  182.092      46.5814   \n",
       "1148         29.1688             51.5152  182.098      46.6505   \n",
       "1149         29.1709             51.5269  182.096      46.5738   \n",
       "1150         29.1730             51.5410  182.095      46.4836   \n",
       "1151         29.1753             51.5570  182.100      46.5242   \n",
       "1152         29.1781             51.5738  182.108      46.6486   \n",
       "1153         29.1812             51.5910  182.111      46.6993   \n",
       "1154         29.1846             51.6076  182.109      46.6323   \n",
       "1155         29.1883             51.6234  182.110      46.5730   \n",
       "\n",
       "     CondDuty_OutletTemp  \n",
       "1140                 bad  \n",
       "1141                 bad  \n",
       "1142                 bad  \n",
       "1143                 bad  \n",
       "1144                 bad  \n",
       "1145                 bad  \n",
       "1146                 bad  \n",
       "1147                 bad  \n",
       "1148                 bad  \n",
       "1149                good  \n",
       "1150                good  \n",
       "1151                good  \n",
       "1152                good  \n",
       "1153                good  \n",
       "1154                good  \n",
       "1155                good  "
      ]
     },
     "execution_count": 7,
     "metadata": {},
     "output_type": "execute_result"
    }
   ],
   "source": [
    "wine.loc[1140:1155]"
   ]
  },
  {
   "cell_type": "code",
   "execution_count": 8,
   "metadata": {},
   "outputs": [],
   "source": [
    "label_quality = LabelEncoder()"
   ]
  },
  {
   "cell_type": "code",
   "execution_count": 9,
   "metadata": {},
   "outputs": [
    {
     "data": {
      "text/plain": [
       "LabelEncoder()"
      ]
     },
     "execution_count": 9,
     "metadata": {},
     "output_type": "execute_result"
    }
   ],
   "source": [
    "label_quality"
   ]
  },
  {
   "cell_type": "code",
   "execution_count": 10,
   "metadata": {},
   "outputs": [],
   "source": [
    "wine['CondDuty_OutletTemp']=label_quality.fit_transform(wine['CondDuty_OutletTemp'])"
   ]
  },
  {
   "cell_type": "code",
   "execution_count": 11,
   "metadata": {},
   "outputs": [
    {
     "data": {
      "text/html": [
       "<div>\n",
       "<style scoped>\n",
       "    .dataframe tbody tr th:only-of-type {\n",
       "        vertical-align: middle;\n",
       "    }\n",
       "\n",
       "    .dataframe tbody tr th {\n",
       "        vertical-align: top;\n",
       "    }\n",
       "\n",
       "    .dataframe thead th {\n",
       "        text-align: right;\n",
       "    }\n",
       "</style>\n",
       "<table border=\"1\" class=\"dataframe\">\n",
       "  <thead>\n",
       "    <tr style=\"text-align: right;\">\n",
       "      <th></th>\n",
       "      <th>&amp;Reac_Pressure</th>\n",
       "      <th>Coolant_OutletTemp</th>\n",
       "      <th>T10</th>\n",
       "      <th>ColumnPC_OP</th>\n",
       "      <th>CondDuty_OutletTemp</th>\n",
       "    </tr>\n",
       "  </thead>\n",
       "  <tbody>\n",
       "    <tr>\n",
       "      <th>0</th>\n",
       "      <td>29.9396</td>\n",
       "      <td>47.1669</td>\n",
       "      <td>182.235</td>\n",
       "      <td>47.6326</td>\n",
       "      <td>1</td>\n",
       "    </tr>\n",
       "    <tr>\n",
       "      <th>1</th>\n",
       "      <td>29.4974</td>\n",
       "      <td>45.7063</td>\n",
       "      <td>182.218</td>\n",
       "      <td>47.2119</td>\n",
       "      <td>1</td>\n",
       "    </tr>\n",
       "    <tr>\n",
       "      <th>2</th>\n",
       "      <td>29.1028</td>\n",
       "      <td>45.4970</td>\n",
       "      <td>182.275</td>\n",
       "      <td>48.3266</td>\n",
       "      <td>1</td>\n",
       "    </tr>\n",
       "    <tr>\n",
       "      <th>3</th>\n",
       "      <td>28.8263</td>\n",
       "      <td>46.0931</td>\n",
       "      <td>182.318</td>\n",
       "      <td>49.5561</td>\n",
       "      <td>1</td>\n",
       "    </tr>\n",
       "    <tr>\n",
       "      <th>4</th>\n",
       "      <td>28.6948</td>\n",
       "      <td>47.1695</td>\n",
       "      <td>182.296</td>\n",
       "      <td>49.5242</td>\n",
       "      <td>1</td>\n",
       "    </tr>\n",
       "  </tbody>\n",
       "</table>\n",
       "</div>"
      ],
      "text/plain": [
       "   &Reac_Pressure  Coolant_OutletTemp      T10  ColumnPC_OP  \\\n",
       "0         29.9396             47.1669  182.235      47.6326   \n",
       "1         29.4974             45.7063  182.218      47.2119   \n",
       "2         29.1028             45.4970  182.275      48.3266   \n",
       "3         28.8263             46.0931  182.318      49.5561   \n",
       "4         28.6948             47.1695  182.296      49.5242   \n",
       "\n",
       "   CondDuty_OutletTemp  \n",
       "0                    1  \n",
       "1                    1  \n",
       "2                    1  \n",
       "3                    1  \n",
       "4                    1  "
      ]
     },
     "execution_count": 11,
     "metadata": {},
     "output_type": "execute_result"
    }
   ],
   "source": [
    "wine.head()"
   ]
  },
  {
   "cell_type": "code",
   "execution_count": 12,
   "metadata": {},
   "outputs": [
    {
     "data": {
      "text/plain": [
       "1    884\n",
       "0    600\n",
       "Name: CondDuty_OutletTemp, dtype: int64"
      ]
     },
     "execution_count": 12,
     "metadata": {},
     "output_type": "execute_result"
    }
   ],
   "source": [
    "wine['CondDuty_OutletTemp'].value_counts()"
   ]
  },
  {
   "cell_type": "code",
   "execution_count": 13,
   "metadata": {},
   "outputs": [
    {
     "data": {
      "text/plain": [
       "<matplotlib.axes._subplots.AxesSubplot at 0x1f82daf78d0>"
      ]
     },
     "execution_count": 13,
     "metadata": {},
     "output_type": "execute_result"
    },
    {
     "data": {
      "image/png": "[encoded data removed]",
      "text/plain": [
       "<Figure size 432x288 with 1 Axes>"
      ]
     },
     "metadata": {
      "needs_background": "light"
     },
     "output_type": "display_data"
    }
   ],
   "source": [
    "sns.countplot(wine['CondDuty_OutletTemp'])"
   ]
  },
  {
   "cell_type": "code",
   "execution_count": 14,
   "metadata": {},
   "outputs": [],
   "source": [
    "#now seperate the dataset as response variable and feature variables\n",
    "X=wine.drop('CondDuty_OutletTemp', axis=1)\n",
    "y=wine['CondDuty_OutletTemp']"
   ]
  },
  {
   "cell_type": "code",
   "execution_count": 15,
   "metadata": {},
   "outputs": [],
   "source": [
    "X_train, X_test, y_train, y_test = train_test_split(X, y, test_size = 0.2, random_state =42)"
   ]
  },
  {
   "cell_type": "code",
   "execution_count": 16,
   "metadata": {},
   "outputs": [],
   "source": [
    "#applying standard scaling to get optimuzed results\n",
    "sc=StandardScaler()\n",
    "X_train=sc.fit_transform(X_train)\n",
    "X_test=sc.transform(X_test)"
   ]
  },
  {
   "cell_type": "code",
   "execution_count": 17,
   "metadata": {},
   "outputs": [
    {
     "data": {
      "text/plain": [
       "array([[-0.60715641,  0.85851758,  0.85890695, -0.79458464],\n",
       "       [-0.1027188 ,  0.63684728,  0.79515675, -0.52604157],\n",
       "       [ 1.00187276, -1.4283467 , -1.50965801,  1.2960498 ],\n",
       "       ...,\n",
       "       [ 0.75375608, -0.19604645,  0.14294322,  0.39523928],\n",
       "       [-0.61212868,  0.86137153,  0.85400309, -0.83194011],\n",
       "       [ 1.00212137, -1.4283467 , -1.50965801,  1.29396807]])"
      ]
     },
     "execution_count": 17,
     "metadata": {},
     "output_type": "execute_result"
    }
   ],
   "source": [
    "X_test"
   ]
  },
  {
   "cell_type": "markdown",
   "metadata": {},
   "source": [
    "# Random Forest Classifier"
   ]
  },
  {
   "cell_type": "code",
   "execution_count": 18,
   "metadata": {},
   "outputs": [],
   "source": [
    "rfc = RandomForestClassifier(n_estimators=200)\n",
    "rfc.fit(X_train, y_train)\n",
    "pred_rfc = rfc.predict(X_test)"
   ]
  },
  {
   "cell_type": "code",
   "execution_count": 19,
   "metadata": {},
   "outputs": [
    {
     "data": {
      "text/plain": [
       "array([1, 1, 0, 1, 1, 0, 1, 1, 1, 1, 1, 1, 0, 1, 1, 1, 0, 1, 1, 0])"
      ]
     },
     "execution_count": 19,
     "metadata": {},
     "output_type": "execute_result"
    }
   ],
   "source": [
    "pred_rfc[:20]"
   ]
  },
  {
   "cell_type": "code",
   "execution_count": 20,
   "metadata": {},
   "outputs": [
    {
     "name": "stdout",
     "output_type": "stream",
     "text": [
      "              precision    recall  f1-score   support\n",
      "\n",
      "           0       0.99      1.00      1.00       123\n",
      "           1       1.00      0.99      1.00       174\n",
      "\n",
      "    accuracy                           1.00       297\n",
      "   macro avg       1.00      1.00      1.00       297\n",
      "weighted avg       1.00      1.00      1.00       297\n",
      "\n",
      "[[123   0]\n",
      " [  1 173]]\n"
     ]
    }
   ],
   "source": [
    "#lets see how our model performed\n",
    "print(classification_report(y_test, pred_rfc))\n",
    "print(confusion_matrix(y_test, pred_rfc))"
   ]
  },
  {
   "cell_type": "code",
   "execution_count": 21,
   "metadata": {},
   "outputs": [],
   "source": [
    "wine2 = pd.read_csv('sk_dat.csv')"
   ]
  },
  {
   "cell_type": "code",
   "execution_count": 22,
   "metadata": {},
   "outputs": [
    {
     "data": {
      "text/html": [
       "<div>\n",
       "<style scoped>\n",
       "    .dataframe tbody tr th:only-of-type {\n",
       "        vertical-align: middle;\n",
       "    }\n",
       "\n",
       "    .dataframe tbody tr th {\n",
       "        vertical-align: top;\n",
       "    }\n",
       "\n",
       "    .dataframe thead th {\n",
       "        text-align: right;\n",
       "    }\n",
       "</style>\n",
       "<table border=\"1\" class=\"dataframe\">\n",
       "  <thead>\n",
       "    <tr style=\"text-align: right;\">\n",
       "      <th></th>\n",
       "      <th>&amp;Reac_Pressure</th>\n",
       "      <th>Coolant_OutletTemp</th>\n",
       "      <th>T10</th>\n",
       "      <th>ColumnPC_OP</th>\n",
       "      <th>CondDuty_OutletTemp</th>\n",
       "    </tr>\n",
       "  </thead>\n",
       "  <tbody>\n",
       "    <tr>\n",
       "      <th>count</th>\n",
       "      <td>1484.000000</td>\n",
       "      <td>1484.000000</td>\n",
       "      <td>1484.000000</td>\n",
       "      <td>1484.000000</td>\n",
       "      <td>1484.000000</td>\n",
       "    </tr>\n",
       "    <tr>\n",
       "      <th>mean</th>\n",
       "      <td>29.753892</td>\n",
       "      <td>47.849290</td>\n",
       "      <td>182.080792</td>\n",
       "      <td>48.314188</td>\n",
       "      <td>59.835145</td>\n",
       "    </tr>\n",
       "    <tr>\n",
       "      <th>std</th>\n",
       "      <td>0.402485</td>\n",
       "      <td>4.800060</td>\n",
       "      <td>0.203852</td>\n",
       "      <td>0.870648</td>\n",
       "      <td>2.534384</td>\n",
       "    </tr>\n",
       "    <tr>\n",
       "      <th>min</th>\n",
       "      <td>27.320100</td>\n",
       "      <td>40.948700</td>\n",
       "      <td>181.717000</td>\n",
       "      <td>46.382900</td>\n",
       "      <td>55.784700</td>\n",
       "    </tr>\n",
       "    <tr>\n",
       "      <th>25%</th>\n",
       "      <td>29.513200</td>\n",
       "      <td>41.145525</td>\n",
       "      <td>181.821750</td>\n",
       "      <td>47.607675</td>\n",
       "      <td>56.636750</td>\n",
       "    </tr>\n",
       "    <tr>\n",
       "      <th>50%</th>\n",
       "      <td>29.515700</td>\n",
       "      <td>51.242100</td>\n",
       "      <td>182.212500</td>\n",
       "      <td>47.857350</td>\n",
       "      <td>61.331550</td>\n",
       "    </tr>\n",
       "    <tr>\n",
       "      <th>75%</th>\n",
       "      <td>30.163700</td>\n",
       "      <td>51.940000</td>\n",
       "      <td>182.255000</td>\n",
       "      <td>49.408825</td>\n",
       "      <td>62.076950</td>\n",
       "    </tr>\n",
       "    <tr>\n",
       "      <th>max</th>\n",
       "      <td>30.365200</td>\n",
       "      <td>52.237100</td>\n",
       "      <td>182.318000</td>\n",
       "      <td>50.190200</td>\n",
       "      <td>62.111600</td>\n",
       "    </tr>\n",
       "  </tbody>\n",
       "</table>\n",
       "</div>"
      ],
      "text/plain": [
       "       &Reac_Pressure  Coolant_OutletTemp          T10  ColumnPC_OP  \\\n",
       "count     1484.000000         1484.000000  1484.000000  1484.000000   \n",
       "mean        29.753892           47.849290   182.080792    48.314188   \n",
       "std          0.402485            4.800060     0.203852     0.870648   \n",
       "min         27.320100           40.948700   181.717000    46.382900   \n",
       "25%         29.513200           41.145525   181.821750    47.607675   \n",
       "50%         29.515700           51.242100   182.212500    47.857350   \n",
       "75%         30.163700           51.940000   182.255000    49.408825   \n",
       "max         30.365200           52.237100   182.318000    50.190200   \n",
       "\n",
       "       CondDuty_OutletTemp  \n",
       "count          1484.000000  \n",
       "mean             59.835145  \n",
       "std               2.534384  \n",
       "min              55.784700  \n",
       "25%              56.636750  \n",
       "50%              61.331550  \n",
       "75%              62.076950  \n",
       "max              62.111600  "
      ]
     },
     "execution_count": 22,
     "metadata": {},
     "output_type": "execute_result"
    }
   ],
   "source": [
    "wine2.describe()"
   ]
  },
  {
   "cell_type": "code",
   "execution_count": 23,
   "metadata": {},
   "outputs": [],
   "source": [
    "sc2=StandardScaler()"
   ]
  },
  {
   "cell_type": "code",
   "execution_count": 26,
   "metadata": {},
   "outputs": [],
   "source": [
    "p = pd.DataFrame(sc2.fit_transform(wine2))"
   ]
  },
  {
   "cell_type": "code",
   "execution_count": 27,
   "metadata": {},
   "outputs": [
    {
     "data": {
      "text/html": [
       "<div>\n",
       "<style scoped>\n",
       "    .dataframe tbody tr th:only-of-type {\n",
       "        vertical-align: middle;\n",
       "    }\n",
       "\n",
       "    .dataframe tbody tr th {\n",
       "        vertical-align: top;\n",
       "    }\n",
       "\n",
       "    .dataframe thead th {\n",
       "        text-align: right;\n",
       "    }\n",
       "</style>\n",
       "<table border=\"1\" class=\"dataframe\">\n",
       "  <thead>\n",
       "    <tr style=\"text-align: right;\">\n",
       "      <th></th>\n",
       "      <th>0</th>\n",
       "      <th>1</th>\n",
       "      <th>2</th>\n",
       "      <th>3</th>\n",
       "      <th>4</th>\n",
       "    </tr>\n",
       "  </thead>\n",
       "  <tbody>\n",
       "    <tr>\n",
       "      <th>count</th>\n",
       "      <td>1.484000e+03</td>\n",
       "      <td>1.484000e+03</td>\n",
       "      <td>1.484000e+03</td>\n",
       "      <td>1.484000e+03</td>\n",
       "      <td>1.484000e+03</td>\n",
       "    </tr>\n",
       "    <tr>\n",
       "      <th>mean</th>\n",
       "      <td>-1.089410e-14</td>\n",
       "      <td>1.137305e-15</td>\n",
       "      <td>1.314865e-13</td>\n",
       "      <td>7.667721e-15</td>\n",
       "      <td>-4.913709e-15</td>\n",
       "    </tr>\n",
       "    <tr>\n",
       "      <th>std</th>\n",
       "      <td>1.000337e+00</td>\n",
       "      <td>1.000337e+00</td>\n",
       "      <td>1.000337e+00</td>\n",
       "      <td>1.000337e+00</td>\n",
       "      <td>1.000337e+00</td>\n",
       "    </tr>\n",
       "    <tr>\n",
       "      <th>min</th>\n",
       "      <td>-6.048945e+00</td>\n",
       "      <td>-1.438090e+00</td>\n",
       "      <td>-1.785194e+00</td>\n",
       "      <td>-2.218967e+00</td>\n",
       "      <td>-1.598736e+00</td>\n",
       "    </tr>\n",
       "    <tr>\n",
       "      <th>25%</th>\n",
       "      <td>-5.982150e-01</td>\n",
       "      <td>-1.397071e+00</td>\n",
       "      <td>-1.271166e+00</td>\n",
       "      <td>-8.117531e-01</td>\n",
       "      <td>-1.262426e+00</td>\n",
       "    </tr>\n",
       "    <tr>\n",
       "      <th>50%</th>\n",
       "      <td>-5.920015e-01</td>\n",
       "      <td>7.070648e-01</td>\n",
       "      <td>6.463166e-01</td>\n",
       "      <td>-5.248873e-01</td>\n",
       "      <td>5.906401e-01</td>\n",
       "    </tr>\n",
       "    <tr>\n",
       "      <th>75%</th>\n",
       "      <td>1.018538e+00</td>\n",
       "      <td>8.525079e-01</td>\n",
       "      <td>8.548720e-01</td>\n",
       "      <td>1.257691e+00</td>\n",
       "      <td>8.848541e-01</td>\n",
       "    </tr>\n",
       "    <tr>\n",
       "      <th>max</th>\n",
       "      <td>1.519346e+00</td>\n",
       "      <td>9.144238e-01</td>\n",
       "      <td>1.164025e+00</td>\n",
       "      <td>2.155457e+00</td>\n",
       "      <td>8.985307e-01</td>\n",
       "    </tr>\n",
       "  </tbody>\n",
       "</table>\n",
       "</div>"
      ],
      "text/plain": [
       "                  0             1             2             3             4\n",
       "count  1.484000e+03  1.484000e+03  1.484000e+03  1.484000e+03  1.484000e+03\n",
       "mean  -1.089410e-14  1.137305e-15  1.314865e-13  7.667721e-15 -4.913709e-15\n",
       "std    1.000337e+00  1.000337e+00  1.000337e+00  1.000337e+00  1.000337e+00\n",
       "min   -6.048945e+00 -1.438090e+00 -1.785194e+00 -2.218967e+00 -1.598736e+00\n",
       "25%   -5.982150e-01 -1.397071e+00 -1.271166e+00 -8.117531e-01 -1.262426e+00\n",
       "50%   -5.920015e-01  7.070648e-01  6.463166e-01 -5.248873e-01  5.906401e-01\n",
       "75%    1.018538e+00  8.525079e-01  8.548720e-01  1.257691e+00  8.848541e-01\n",
       "max    1.519346e+00  9.144238e-01  1.164025e+00  2.155457e+00  8.985307e-01"
      ]
     },
     "execution_count": 27,
     "metadata": {},
     "output_type": "execute_result"
    }
   ],
   "source": [
    "p.describe()"
   ]
  },
  {
   "cell_type": "code",
   "execution_count": null,
   "metadata": {},
   "outputs": [],
   "source": []
  }
 ],
 "metadata": {
  "kernelspec": {
   "display_name": "Python 3",
   "language": "python",
   "name": "python3"
  },
  "language_info": {
   "codemirror_mode": {
    "name": "ipython",
    "version": 3
   },
   "file_extension": ".py",
   "mimetype": "text/x-python",
   "name": "python",
   "nbconvert_exporter": "python",
   "pygments_lexer": "ipython3",
   "version": "3.7.3"
  }
 },
 "nbformat": 4,
 "nbformat_minor": 2
}
